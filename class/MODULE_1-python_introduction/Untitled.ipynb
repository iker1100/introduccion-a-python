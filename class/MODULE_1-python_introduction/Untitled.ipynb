{
 "cells": [
  {
   "cell_type": "markdown",
   "id": "artistic-steering",
   "metadata": {},
   "source": [
    "1. Encuentra todos los números del 1 al 1000 que tengan un 3 contenido en ellos"
   ]
  },
  {
   "cell_type": "code",
   "execution_count": 16,
   "id": "several-lucas",
   "metadata": {},
   "outputs": [
    {
     "name": "stdout",
     "output_type": "stream",
     "text": [
      "[3, 13, 23, 30, 31, 32, 33, 34, 35, 36, 37, 38, 39, 43, 53, 63, 73, 83, 93, 103, 113, 123, 130, 131, 132, 133, 134, 135, 136, 137, 138, 139, 143, 153, 163, 173, 183, 193, 203, 213, 223, 230, 231, 232, 233, 234, 235, 236, 237, 238, 239, 243, 253, 263, 273, 283, 293, 300, 301, 302, 303, 304, 305, 306, 307, 308, 309, 310, 311, 312, 313, 314, 315, 316, 317, 318, 319, 320, 321, 322, 323, 324, 325, 326, 327, 328, 329, 330, 331, 332, 333, 334, 335, 336, 337, 338, 339, 340, 341, 342, 343, 344, 345, 346, 347, 348, 349, 350, 351, 352, 353, 354, 355, 356, 357, 358, 359, 360, 361, 362, 363, 364, 365, 366, 367, 368, 369, 370, 371, 372, 373, 374, 375, 376, 377, 378, 379, 380, 381, 382, 383, 384, 385, 386, 387, 388, 389, 390, 391, 392, 393, 394, 395, 396, 397, 398, 399, 403, 413, 423, 430, 431, 432, 433, 434, 435, 436, 437, 438, 439, 443, 453, 463, 473, 483, 493, 503, 513, 523, 530, 531, 532, 533, 534, 535, 536, 537, 538, 539, 543, 553, 563, 573, 583, 593, 603, 613, 623, 630, 631, 632, 633, 634, 635, 636, 637, 638, 639, 643, 653, 663, 673, 683, 693, 703, 713, 723, 730, 731, 732, 733, 734, 735, 736, 737, 738, 739, 743, 753, 763, 773, 783, 793, 803, 813, 823, 830, 831, 832, 833, 834, 835, 836, 837, 838, 839, 843, 853, 863, 873, 883, 893, 903, 913, 923, 930, 931, 932, 933, 934, 935, 936, 937, 938, 939, 943, 953, 963, 973, 983, 993]\n"
     ]
    }
   ],
   "source": [
    "def haytres(numero):\n",
    "    flag=False\n",
    "    lista=[v for v in str(numero) if v==\"3\"]\n",
    "    if len(lista)>0:\n",
    "        flag=True\n",
    "    return flag\n",
    "numeros=list(range(1,1000))\n",
    "sol=[v for v in numeros if haytres(v)==True]\n",
    "print(sol)"
   ]
  },
  {
   "cell_type": "markdown",
   "id": "sensitive-owner",
   "metadata": {},
   "source": [
    "2. Cuenta el número de espacios en una cadena de caracteres dados"
   ]
  },
  {
   "cell_type": "code",
   "execution_count": 12,
   "id": "hydraulic-moore",
   "metadata": {},
   "outputs": [
    {
     "name": "stdout",
     "output_type": "stream",
     "text": [
      "Introduce textokjads aksjd  ajh  kjah\n",
      "5\n"
     ]
    }
   ],
   "source": [
    "text=input(\"Introduce texto\")\n",
    "\n",
    "espacios=[v for v in text if v.isspace()]\n",
    "r=len(espacios)\n",
    "print(r)\n",
    "\n",
    "\n",
    "\n"
   ]
  },
  {
   "cell_type": "markdown",
   "id": "official-singer",
   "metadata": {},
   "source": [
    "3. Elimina todas las vocales de una cadena "
   ]
  },
  {
   "cell_type": "code",
   "execution_count": 8,
   "id": "bound-encoding",
   "metadata": {},
   "outputs": [
    {
     "name": "stdout",
     "output_type": "stream",
     "text": [
      "Introduce textomurcielago\n",
      "['m', 'r', 'c', 'l', 'g']\n",
      "mrclg\n"
     ]
    }
   ],
   "source": [
    "\n",
    "text=input(\"Introduce texto\")\n",
    "espacios=[v for v in text if v!=\"a\" and v!=\"e\" and v!=\"i\" and v!=\"o\" and v!=\"u\"]\n",
    "palabra=\"\".join(espacios)\n",
    "print(espacios)\n",
    "print(palabra)"
   ]
  },
  {
   "cell_type": "markdown",
   "id": "metropolitan-horizontal",
   "metadata": {},
   "source": [
    "4. Encuentra todas las palabras de una cadena que tengan menos de 4 letras"
   ]
  },
  {
   "cell_type": "code",
   "execution_count": 2,
   "id": "psychological-number",
   "metadata": {},
   "outputs": [
    {
     "name": "stdout",
     "output_type": "stream",
     "text": [
      "Introduce textohg jfhdjbfsjd jsd kasdf ajsfjadf dj\n",
      "['hg', 'jsd', 'dj']\n"
     ]
    }
   ],
   "source": [
    "text=input(\"Introduce texto\")\n",
    "lista=text.split()\n",
    "palabras=[v for v in lista if len(v)<=4]\n",
    "print(palabras)"
   ]
  }
 ],
 "metadata": {
  "kernelspec": {
   "display_name": "Python 3",
   "language": "python",
   "name": "python3"
  },
  "language_info": {
   "codemirror_mode": {
    "name": "ipython",
    "version": 3
   },
   "file_extension": ".py",
   "mimetype": "text/x-python",
   "name": "python",
   "nbconvert_exporter": "python",
   "pygments_lexer": "ipython3",
   "version": "3.8.5"
  }
 },
 "nbformat": 4,
 "nbformat_minor": 5
}
