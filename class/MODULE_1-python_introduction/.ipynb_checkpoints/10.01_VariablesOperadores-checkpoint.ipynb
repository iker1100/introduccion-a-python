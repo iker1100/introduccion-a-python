{
 "cells": [
  {
   "cell_type": "markdown",
   "metadata": {},
   "source": [
    "# 1- Variables y Operadores\n",
    "\n",
    "Curso Introducción a Python - Tecnun, Universidad de Navarra"
   ]
  },
  {
   "cell_type": "markdown",
   "metadata": {},
   "source": [
    "El objetivo de este documento es conocer algunos tipos de variables y operadores empleados en Python."
   ]
  },
  {
   "cell_type": "markdown",
   "metadata": {},
   "source": [
    "## Hello, world!"
   ]
  },
  {
   "cell_type": "markdown",
   "metadata": {},
   "source": [
    "Pero, antes de entrar en materia, vamos a iniciarnos con la línea de código con la que empieza todo el mundo.\n",
    "\n",
    "El comando *print()* nos muestra por pantalla lo que le pasemos como argumento. En este caso, queremos ver por pantalla el texto \"Hello, world!\"."
   ]
  },
  {
   "cell_type": "code",
   "execution_count": 1,
   "metadata": {},
   "outputs": [
    {
     "name": "stdout",
     "output_type": "stream",
     "text": [
      "Hello\n"
     ]
    }
   ],
   "source": [
    "print(\"Hello\")"
   ]
  },
  {
   "cell_type": "markdown",
   "metadata": {},
   "source": [
    "Obsérvese que podemos emplear tanto comillas simples como dobles para trabajar con cadenas de caracteres."
   ]
  },
  {
   "cell_type": "markdown",
   "metadata": {},
   "source": [
    "## Variables numéricas y operadores"
   ]
  },
  {
   "cell_type": "markdown",
   "metadata": {},
   "source": [
    "Vamos a empezar por las variables numéricas. Las más empleadas son las variables enteras (**int**) y flotantes (**float**). Con las primeras podremos representar los números enteros, y, con las segundas, cualquier número con decimales."
   ]
  },
  {
   "cell_type": "code",
   "execution_count": null,
   "metadata": {},
   "outputs": [],
   "source": []
  },
  {
   "cell_type": "markdown",
   "metadata": {},
   "source": [
    "Podemos operar con los dos tipos de variables de la misma manera utilizando los operadores suma (**\\+**), resta (**\\-**), multiplicación (**\\***) y división (**\\/**). Debemos tener en cuenta que el resultado de cualquier operación realizada con variables flotantes será otra variable flotante. El resultado de cualquier operación realizada con variables enteras, por el contrario, será otra variable entera, a excepción de la división, que será flotante."
   ]
  },
  {
   "cell_type": "code",
   "execution_count": null,
   "metadata": {},
   "outputs": [],
   "source": []
  },
  {
   "cell_type": "markdown",
   "metadata": {},
   "source": [
    "Python también permite mezclar variables enteras y flotantes en la misma operación. En este caso, el resultado siempre será flotante."
   ]
  },
  {
   "cell_type": "code",
   "execution_count": null,
   "metadata": {},
   "outputs": [],
   "source": []
  },
  {
   "cell_type": "markdown",
   "metadata": {},
   "source": [
    "Existen otros tres operadores que nos pueden resultar de utilidad: la potencia (**\\*\\***), la división entera (**//**) y el residuo de la división(**%**). El resultado de estas operaciones mantiene la naturaleza de las variables con las que estamos operando."
   ]
  },
  {
   "cell_type": "code",
   "execution_count": null,
   "metadata": {},
   "outputs": [],
   "source": []
  },
  {
   "cell_type": "markdown",
   "metadata": {},
   "source": [
    "Para terminar con las variables numéricas, introduciremos la función **type()**. Esta función nos mostrará el tipo de variable que estamos utilizando y se puede emplear para cualquier tipo de variable."
   ]
  },
  {
   "cell_type": "code",
   "execution_count": null,
   "metadata": {},
   "outputs": [],
   "source": []
  },
  {
   "cell_type": "markdown",
   "metadata": {},
   "source": [
    "## Cadenas de caracteres y operadores"
   ]
  },
  {
   "cell_type": "markdown",
   "metadata": {},
   "source": [
    "Como hemos comentado más arriba, las cadenas de caracteres (string) puede escribirse con comillas simples o dobles."
   ]
  },
  {
   "cell_type": "code",
   "execution_count": null,
   "metadata": {},
   "outputs": [],
   "source": []
  },
  {
   "cell_type": "markdown",
   "metadata": {},
   "source": [
    "De la misma forma que hemos hecho con las variables numéricas, podemos emplear los operadores suma (**\\+**) y multiplicación (**\\***) para operar con las cadenas de caracteres. Con el primer operador concatenaremos las cadenas que estamos \"sumando\", mientras que con el segundo repetiremos la cadena tantas veces como el número que la multiplica."
   ]
  },
  {
   "cell_type": "code",
   "execution_count": null,
   "metadata": {},
   "outputs": [],
   "source": []
  },
  {
   "cell_type": "markdown",
   "metadata": {},
   "source": [
    "Hay que tener mucho cuidado con los tipos de variable con los que estamos trabajando al hacer este tipo de operaciones. Véase un ejemplo:"
   ]
  },
  {
   "cell_type": "code",
   "execution_count": null,
   "metadata": {},
   "outputs": [],
   "source": []
  },
  {
   "cell_type": "markdown",
   "metadata": {},
   "source": [
    "El poder emplear las comillas simples o dobles para crear las cadenas de caracteres facilita la inclusión de estos símbolos en el texto."
   ]
  },
  {
   "cell_type": "code",
   "execution_count": null,
   "metadata": {},
   "outputs": [],
   "source": []
  },
  {
   "cell_type": "markdown",
   "metadata": {},
   "source": [
    "Al igual que otros lenguajes de programación, Python permite acceder a los elementos de las cadenas de caracteres. Para ello, hay que tener en cuenta que el primer elemento de la cadena está ubicado en la posición 0."
   ]
  },
  {
   "cell_type": "code",
   "execution_count": null,
   "metadata": {},
   "outputs": [],
   "source": []
  },
  {
   "cell_type": "markdown",
   "metadata": {},
   "source": [
    "## Conversión de tipos de variables"
   ]
  },
  {
   "cell_type": "markdown",
   "metadata": {},
   "source": [
    "Utilizando las funciones **int()**, **float()** y **str()**, se pueden convertir las variables de un tipo a otro. De todas formas, hay que tener cuidado al convertir flotantes a enteros, o cadenas de caracteres a enteros o flotantes."
   ]
  },
  {
   "cell_type": "code",
   "execution_count": null,
   "metadata": {},
   "outputs": [],
   "source": []
  },
  {
   "cell_type": "markdown",
   "metadata": {},
   "source": [
    "## Listas "
   ]
  },
  {
   "cell_type": "markdown",
   "metadata": {},
   "source": [
    "Las listas son un tipo de variable que contienen distintas variables de cualquier tipo en su interior."
   ]
  },
  {
   "cell_type": "code",
   "execution_count": null,
   "metadata": {},
   "outputs": [],
   "source": []
  },
  {
   "cell_type": "markdown",
   "metadata": {},
   "source": [
    "Las listas pueden contener elementos de distinta naturaleza."
   ]
  },
  {
   "cell_type": "code",
   "execution_count": null,
   "metadata": {},
   "outputs": [],
   "source": []
  },
  {
   "cell_type": "markdown",
   "metadata": {},
   "source": [
    "De la misma manera que con los elementos de las cadenas de caracteres, se puede acceder a los elementos de las listas de la siguiente manera:"
   ]
  },
  {
   "cell_type": "code",
   "execution_count": null,
   "metadata": {},
   "outputs": [],
   "source": []
  },
  {
   "cell_type": "markdown",
   "metadata": {},
   "source": [
    "## Otras variables "
   ]
  },
  {
   "cell_type": "markdown",
   "metadata": {},
   "source": [
    "Aunque no entraremos en detalle, vamos a introducir tres tipos de variables más: los diccionarios, las tuplas y los conjuntos."
   ]
  },
  {
   "cell_type": "code",
   "execution_count": null,
   "metadata": {},
   "outputs": [],
   "source": []
  },
  {
   "cell_type": "markdown",
   "metadata": {},
   "source": [
    "## Cortes de cadenas/listas "
   ]
  },
  {
   "cell_type": "markdown",
   "metadata": {},
   "source": [
    "Como hemos comentado antes, las posiciones en las cadenas de caracteres y listas empiezan a contar desde 0.\n",
    "\n",
    "El operador **:** se emplea para obtener los valores guardado en más de una posición del vector (corte del vector)."
   ]
  },
  {
   "cell_type": "code",
   "execution_count": null,
   "metadata": {},
   "outputs": [],
   "source": []
  },
  {
   "cell_type": "markdown",
   "metadata": {},
   "source": [
    "En este caso, a pesar de poner **[0:4]** estamos extrayendo los elementos guardados en las posiciones 0, 1, 2 y 3. **Es muy importante tener en cuenta que el primer valor (0) sí que se extraerá, pero no así el último**.\n",
    "\n",
    "Aparte de acceder a los vectores por el primer elemento, también podemos acceder a ellos desde el último empleando el operador **-**."
   ]
  },
  {
   "cell_type": "code",
   "execution_count": null,
   "metadata": {},
   "outputs": [],
   "source": []
  },
  {
   "cell_type": "markdown",
   "metadata": {},
   "source": [
    "También podemos extraer elementos a saltos, por ejemplo, aquellos elementos que están en posiciones pares. Para ello, volvemos a emplear el operador **:** junto con un tercer número que indica el paso."
   ]
  },
  {
   "cell_type": "code",
   "execution_count": null,
   "metadata": {},
   "outputs": [],
   "source": []
  },
  {
   "cell_type": "markdown",
   "metadata": {},
   "source": [
    "Para terminar, también con el operador **-** podemos darle la vuelta al vector."
   ]
  },
  {
   "cell_type": "code",
   "execution_count": null,
   "metadata": {},
   "outputs": [],
   "source": []
  }
 ],
 "metadata": {
  "kernelspec": {
   "display_name": "Python 3",
   "language": "python",
   "name": "python3"
  },
  "language_info": {
   "codemirror_mode": {
    "name": "ipython",
    "version": 3
   },
   "file_extension": ".py",
   "mimetype": "text/x-python",
   "name": "python",
   "nbconvert_exporter": "python",
   "pygments_lexer": "ipython3",
   "version": "3.8.5"
  }
 },
 "nbformat": 4,
 "nbformat_minor": 2
}
