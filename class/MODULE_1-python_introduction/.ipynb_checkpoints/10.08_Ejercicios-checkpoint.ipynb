{
 "cells": [
  {
   "cell_type": "markdown",
   "metadata": {},
   "source": [
    "# Ejercicios - 16 septiembre\n",
    "Curso Introducción a Python - Tecnun, Universidad de Navarra"
   ]
  },
  {
   "cell_type": "markdown",
   "metadata": {},
   "source": [
    "## Creacción diccionario"
   ]
  },
  {
   "cell_type": "markdown",
   "metadata": {},
   "source": [
    "1. Crear un diccionario donde las claves sean los días de la semana y los valores sean cuántos de esos dias hay en septiembre.\n",
    "2. Del diccionario anterior, convertir todas las claves mayúsculas.\n",
    "\n",
    "EXTRA: Utiliza una tupla para los días de la semana."
   ]
  },
  {
   "cell_type": "code",
   "execution_count": null,
   "metadata": {},
   "outputs": [],
   "source": []
  },
  {
   "cell_type": "markdown",
   "metadata": {},
   "source": [
    "## Cambiar el orden de las palabras"
   ]
  },
  {
   "cell_type": "markdown",
   "metadata": {},
   "source": [
    "Pide al usuario que introduzca una frase y que el algoritmo la muestre por pantalla pero con las palabras en orden inverso. Por ejemplo:\n",
    "\n",
    "                            Me gusta analizar datos  ->  datos analizar gusta Me"
   ]
  },
  {
   "cell_type": "code",
   "execution_count": null,
   "metadata": {},
   "outputs": [],
   "source": [
    "frase=input()\n",
    "palabras=frase.split(\" \")\n",
    "palabras.reverse()\n",
    "palabras\n",
    "\" \".join(palabras)"
   ]
  },
  {
   "cell_type": "markdown",
   "metadata": {},
   "source": [
    "## Piedra - Papel - Tijera"
   ]
  },
  {
   "cell_type": "markdown",
   "metadata": {},
   "source": [
    "Crea un algoritmo que pida a dos usuarios si eligen piedra, papel o tijera y muestra por pantalla un mensaje para el ganador. En caso de empate, seguirán jugando hasta desempatar."
   ]
  },
  {
   "cell_type": "code",
   "execution_count": null,
   "metadata": {},
   "outputs": [],
   "source": [
    "from IPython.display import clear_output\n",
    "\n",
    "ganador=0\n",
    "while ganador==0:\n",
    "    clear_output()\n",
    "\n",
    "\n",
    "    print(\"Jugador 1\")\n",
    "    print(\"1)Piedra\")\n",
    "    print(\"2)Papel\")\n",
    "    print(\"3)Tijera\")\n",
    "    jugador1 = int(input(\"Que elijes: \"))\n",
    "\n",
    "    if jugador1 == 1:\n",
    "        elijeUsuario1 = \"piedra\"\n",
    "    elif jugador1 == 2:\n",
    "        elijeUsuario1 = \"papel\"\n",
    "    elif jugador1 == 3:\n",
    "        elijeUsuario1 = \"tijera\"\n",
    "    print(\"Jugador 1 elije: \", elijeUsuario1)\n",
    "    print(\"...\")\n",
    "\n",
    "    print(\"Jugador 2\")\n",
    "    print(\"1)Piedra\")\n",
    "    print(\"2)Papel\")\n",
    "    print(\"3)Tijera\")\n",
    "    jugador2 = int(input(\"Que elijes: \"))\n",
    "\n",
    "    if jugador2 == 1:\n",
    "        elijeUsuario2 = \"piedra\"\n",
    "    elif jugador2 == 2:\n",
    "        elijeUsuario2 = \"papel\"\n",
    "    elif jugador2 == 3:\n",
    "        elijeUsuario2 = \"tijera\"\n",
    "\n",
    "    print(\"Jugador 2 elije \", elijeUsuario2)\n",
    "    print(\"...\")\n",
    "    if elijeUsuario1 == \"piedra\" and elijeUsuario2 == \"papel\":\n",
    "        print(\"Gana jugador 2, papel envulve piedra\")\n",
    "        ganador=1\n",
    "    elif elijeUsuario1 == \"papel\" and elijeUsuario2 == \"tijera\":\n",
    "        print(\"Gana jugador 2, Tijera corta papel\")\n",
    "        ganador=1\n",
    "    elif elijeUsuario1 == \"tijera\" and elijeUsuario2 == \"piedra\":\n",
    "        print(\"Gana jugador 2, Piedra pisa tijera\")\n",
    "        ganador=1\n",
    "    elif elijeUsuario1 == \"papel\" and elijeUsuario == \"piedra\":\n",
    "        print(\"Gana jugador 1, papel envulve piedra\")\n",
    "        ganador=1\n",
    "    elif elijeUsuario1 == \"tijera\" and elijeUsuario == \"papel\":\n",
    "        print(\"Gana jugador 1, Tijera corta papel\")\n",
    "        ganador=1\n",
    "    elif elijeUsuario1 == \"piedra\" and elijeUsuario2 == \"tijera\":\n",
    "        print(\"Gana jugador 1, Piedra pisa tijera\")\n",
    "        ganador=1\n",
    "    elif elijeUsuario1 == elijeUsuario2:\n",
    "        print(\"empate\")"
   ]
  },
  {
   "cell_type": "markdown",
   "metadata": {},
   "source": [
    "## Calculadora"
   ]
  },
  {
   "cell_type": "markdown",
   "metadata": {},
   "source": [
    "Hacer una función para un programa al que le entregues dos números `x` y `y` un parámetro `t` tal que\n",
    "\n",
    "- Si t = b. debe devolver $x - y$\n",
    "- Si t = c, debe devolver $x + y$\n",
    "- Si t = d, debe devolver $x/y$\n",
    "- Si t = e, debe devolver $x^{y+1}$\n",
    "\n",
    "EXTRA. Intenta utilizar un lista.\n"
   ]
  },
  {
   "cell_type": "code",
   "execution_count": null,
   "metadata": {},
   "outputs": [],
   "source": [
    "def operaciones(x,y,t):\n",
    "    resta=x-y\n",
    "    suma=x+y\n",
    "    division=x/y\n",
    "    pot=x**(y+1)\n",
    "    op=[resta,suma,division,pot]\n",
    "\n",
    "    if t==\"b\":\n",
    "        return op[0]\n",
    "    if t==\"c\":\n",
    "        return op[1]\n",
    "    if t==\"d\":\n",
    "        return op[2]\n",
    "    if t==\"e\":\n",
    "        return op[3]\n",
    "x=int(input(\"x: \"))\n",
    "y=int(input(\"y: \"))\n",
    "t=input(\"t: \")\n",
    "\n",
    "sol=operaciones(x,y,t)\n",
    "print(sol)"
   ]
  },
  {
   "cell_type": "markdown",
   "metadata": {},
   "source": [
    "## Estaciones"
   ]
  },
  {
   "cell_type": "markdown",
   "metadata": {},
   "source": [
    "Hacer un script para un programa al que le entregues un parámetro mes. Según el mes que introduzca el usuario, el programa debe devolver: PRIMAVERA, VERANO, OTOÑO o INVIERNO.\n",
    "EXTRA. Intenta utilizar un diccionario."
   ]
  },
  {
   "cell_type": "code",
   "execution_count": null,
   "metadata": {},
   "outputs": [],
   "source": [
    "dic={\"1\":\"Invierno\",\n",
    "    \"2\":\"Invierno\",\n",
    "    \"3\":\"Primavera\",\n",
    "    \"4\":\"Primavera\",\n",
    "    \"5\":\"Primavera\",\n",
    "    \"6\":\"Verano\",\n",
    "    \"7\":\"Verano\",\n",
    "    \"8\":\"Verano\",\n",
    "    \"9\":\"Otoño\",\n",
    "    \"10\":\"Otoño\",\n",
    "    \"11\":\"Otoño\",\n",
    "    \"12\":\"Invierno\"}\n",
    "x=input(\"Introcucir el numero de mes: \")\n",
    "\n",
    "sol=dic[x]\n",
    "print(sol)\n"
   ]
  }
 ],
 "metadata": {
  "kernelspec": {
   "display_name": "Python 3",
   "language": "python",
   "name": "python3"
  },
  "language_info": {
   "codemirror_mode": {
    "name": "ipython",
    "version": 3
   },
   "file_extension": ".py",
   "mimetype": "text/x-python",
   "name": "python",
   "nbconvert_exporter": "python",
   "pygments_lexer": "ipython3",
   "version": "3.8.5"
  }
 },
 "nbformat": 4,
 "nbformat_minor": 2
}
