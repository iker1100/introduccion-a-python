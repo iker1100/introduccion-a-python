{
 "cells": [
  {
   "cell_type": "markdown",
   "metadata": {},
   "source": [
    "# Ejercicios - 16 septiembre\n",
    "Curso Introducción a Python - Tecnun, Universidad de Navarra"
   ]
  },
  {
   "cell_type": "markdown",
   "metadata": {},
   "source": [
    "## Creacción diccionario"
   ]
  },
  {
   "cell_type": "markdown",
   "metadata": {},
   "source": [
    "1. Crear un diccionario donde las claves sean los días de la semana y los valores sean cuántos de esos dias hay en septiembre.\n",
    "2. Del diccionario anterior, convertir todas las claves mayúsculas.\n",
    "\n",
    "EXTRA: Utiliza una tupla para los días de la semana."
   ]
  },
  {
   "cell_type": "code",
   "execution_count": null,
   "metadata": {},
   "outputs": [],
   "source": []
  },
  {
   "cell_type": "markdown",
   "metadata": {},
   "source": [
    "## Cambiar el orden de las palabras"
   ]
  },
  {
   "cell_type": "markdown",
   "metadata": {},
   "source": [
    "Pide al usuario que introduzca una frase y que el algoritmo la muestre por pantalla pero con las palabras en orden inverso. Por ejemplo:\n",
    "\n",
    "                            Me gusta analizar datos  ->  datos analizar gusta Me"
   ]
  },
  {
   "cell_type": "code",
   "execution_count": 9,
   "metadata": {},
   "outputs": [
    {
     "name": "stdout",
     "output_type": "stream",
     "text": [
      "hola que tal\n"
     ]
    },
    {
     "data": {
      "text/plain": [
       "'tal que hola'"
      ]
     },
     "execution_count": 9,
     "metadata": {},
     "output_type": "execute_result"
    }
   ],
   "source": [
    "frase=input()\n",
    "palabras=frase.split(\" \")\n",
    "palabras.reverse()\n",
    "palabras\n",
    "\" \".join(palabras)"
   ]
  },
  {
   "cell_type": "markdown",
   "metadata": {},
   "source": [
    "## Piedra - Papel - Tijera"
   ]
  },
  {
   "cell_type": "markdown",
   "metadata": {},
   "source": [
    "Crea un algoritmo que pida a dos usuarios si eligen piedra, papel o tijera y muestra por pantalla un mensaje para el ganador. En caso de empate, seguirán jugando hasta desempatar."
   ]
  },
  {
   "cell_type": "code",
   "execution_count": 1,
   "metadata": {},
   "outputs": [
    {
     "name": "stdout",
     "output_type": "stream",
     "text": [
      "Jugador 1\n",
      "1)Piedra\n",
      "2)Papel\n",
      "3)Tijera\n",
      "Que elijes: 1\n",
      "Jugador 1 elije:  piedra\n",
      "...\n",
      "Jugador 2\n",
      "1)Piedra\n",
      "2)Papel\n",
      "3)Tijera\n",
      "Que elijes: 3\n",
      "Jugador 2 elije  tijera\n",
      "...\n",
      "Gana jugador 1, Piedra pisa tijera\n"
     ]
    }
   ],
   "source": [
    "from IPython.display import clear_output\n",
    "\n",
    "ganador=0\n",
    "while ganador==0:\n",
    "    clear_output()\n",
    "\n",
    "\n",
    "    print(\"Jugador 1\")\n",
    "    print(\"1)Piedra\")\n",
    "    print(\"2)Papel\")\n",
    "    print(\"3)Tijera\")\n",
    "    jugador1 = int(input(\"Que elijes: \"))\n",
    "\n",
    "    if jugador1 == 1:\n",
    "        elijeUsuario1 = \"piedra\"\n",
    "    elif jugador1 == 2:\n",
    "        elijeUsuario1 = \"papel\"\n",
    "    elif jugador1 == 3:\n",
    "        elijeUsuario1 = \"tijera\"\n",
    "    print(\"Jugador 1 elije: \", elijeUsuario1)\n",
    "    print(\"...\")\n",
    "\n",
    "    print(\"Jugador 2\")\n",
    "    print(\"1)Piedra\")\n",
    "    print(\"2)Papel\")\n",
    "    print(\"3)Tijera\")\n",
    "    jugador2 = int(input(\"Que elijes: \"))\n",
    "\n",
    "    if jugador2 == 1:\n",
    "        elijeUsuario2 = \"piedra\"\n",
    "    elif jugador2 == 2:\n",
    "        elijeUsuario2 = \"papel\"\n",
    "    elif jugador2 == 3:\n",
    "        elijeUsuario2 = \"tijera\"\n",
    "\n",
    "    print(\"Jugador 2 elije \", elijeUsuario2)\n",
    "    print(\"...\")\n",
    "    if elijeUsuario1 == \"piedra\" and elijeUsuario2 == \"papel\":\n",
    "        print(\"Gana jugador 2, papel envulve piedra\")\n",
    "        ganador=1\n",
    "    elif elijeUsuario1 == \"papel\" and elijeUsuario2 == \"tijera\":\n",
    "        print(\"Gana jugador 2, Tijera corta papel\")\n",
    "        ganador=1\n",
    "    elif elijeUsuario1 == \"tijera\" and elijeUsuario2 == \"piedra\":\n",
    "        print(\"Gana jugador 2, Piedra pisa tijera\")\n",
    "        ganador=1\n",
    "    elif elijeUsuario1 == \"papel\" and elijeUsuario == \"piedra\":\n",
    "        print(\"Gana jugador 1, papel envulve piedra\")\n",
    "        ganador=1\n",
    "    elif elijeUsuario1 == \"tijera\" and elijeUsuario == \"papel\":\n",
    "        print(\"Gana jugador 1, Tijera corta papel\")\n",
    "        ganador=1\n",
    "    elif elijeUsuario1 == \"piedra\" and elijeUsuario2 == \"tijera\":\n",
    "        print(\"Gana jugador 1, Piedra pisa tijera\")\n",
    "        ganador=1\n",
    "    elif elijeUsuario1 == elijeUsuario2:\n",
    "        print(\"empate\")"
   ]
  },
  {
   "cell_type": "markdown",
   "metadata": {},
   "source": [
    "## Validación de contraseñas (EXTRA)"
   ]
  },
  {
   "cell_type": "markdown",
   "metadata": {},
   "source": [
    "Crea una función que tome como argumento de entrada una propuesta de contraseña y compruebe si es segura o no. Una contraseña segura ha de cumplir las siguientes condiciones:\n",
    "- Debe tener al menos 8 caracteres.\n",
    "- Debe tener al menos una letra minúscula, una letra mayúscula, un número y un carácter no alfanumérico.\n",
    "- No puede tener espacios en blanco.\n",
    "\n",
    "Si la contraseña es segura, deberá mostrarse *True* por pantalla y, si no lo es, se mostrará *False*.\n",
    "\n",
    "Puedes aprovechar para practicar las expresiones regulares."
   ]
  },
  {
   "cell_type": "code",
   "execution_count": 12,
   "metadata": {
    "scrolled": true
   },
   "outputs": [
    {
     "name": "stdout",
     "output_type": "stream",
     "text": [
      "Contraseña: As1+As1+\n",
      "As1+As1+\n",
      "A\n",
      "s\n",
      "1\n",
      "+\n",
      "A\n",
      "s\n",
      "1\n",
      "+\n",
      "True\n"
     ]
    }
   ],
   "source": [
    "contraseña=input(\"Contraseña: \")\n",
    "print(contraseña)\n",
    "\n",
    "if len(contraseña)>=8:\n",
    "    not_alnumeric=False\n",
    "    numeric=False\n",
    "    upper=False\n",
    "    lower=False\n",
    "    space=False\n",
    "\n",
    "    for x in contraseña:\n",
    "        print(x)\n",
    "        if x.isalnum() == False :\n",
    "            not_alnumeric=True\n",
    "        if x.isnumeric()==True:\n",
    "            numeric=True\n",
    "        if x.isspace()==True:\n",
    "            space=True\n",
    "        if x.isupper()==True:\n",
    "            upper=True\n",
    "        if x.islower()==True:\n",
    "            lower=True\n",
    "\n",
    "    if not_alnumeric==True and numeric==True and space==False and upper==True and lower==True:\n",
    "        print(\"True\")\n",
    "    else:\n",
    "        print(\"False\")\n",
    "else:\n",
    "    print(\"False\")"
   ]
  },
  {
   "cell_type": "markdown",
   "metadata": {},
   "source": [
    "## Calculadora"
   ]
  },
  {
   "cell_type": "markdown",
   "metadata": {},
   "source": [
    "Hacer una función para un programa al que le entregues dos números `x` y `y` un parámetro `t` tal que\n",
    "\n",
    "- Si t = b. debe devolver $x - y$\n",
    "- Si t = c, debe devolver $x + y$\n",
    "- Si t = d, debe devolver $x/y$\n",
    "- Si t = e, debe devolver $x^{y+1}$\n",
    "\n",
    "EXTRA. Intenta utilizar un lista.\n"
   ]
  },
  {
   "cell_type": "code",
   "execution_count": 17,
   "metadata": {},
   "outputs": [
    {
     "name": "stdout",
     "output_type": "stream",
     "text": [
      "x: 5\n",
      "y: 4\n",
      "t: e\n",
      "3125\n"
     ]
    }
   ],
   "source": [
    "def operaciones(x,y,t):\n",
    "    resta=x-y\n",
    "    suma=x+y\n",
    "    division=x/y\n",
    "    pot=x**(y+1)\n",
    "    op=[resta,suma,division,pot]\n",
    "\n",
    "    if t==\"b\":\n",
    "        return op[0]\n",
    "    if t==\"c\":\n",
    "        return op[1]\n",
    "    if t==\"d\":\n",
    "        return op[2]\n",
    "    if t==\"e\":\n",
    "        return op[3]\n",
    "x=int(input(\"x: \"))\n",
    "y=int(input(\"y: \"))\n",
    "t=input(\"t: \")\n",
    "\n",
    "sol=operaciones(x,y,t)\n",
    "print(sol)"
   ]
  },
  {
   "cell_type": "markdown",
   "metadata": {},
   "source": [
    "## Estaciones"
   ]
  },
  {
   "cell_type": "markdown",
   "metadata": {},
   "source": [
    "Hacer un script para un programa al que le entregues un parámetro mes. Según el mes que introduzca el usuario, el programa debe devolver: PRIMAVERA, VERANO, OTOÑO o INVIERNO.\n",
    "EXTRA. Intenta utilizar un diccionario."
   ]
  },
  {
   "cell_type": "code",
   "execution_count": null,
   "metadata": {
    "scrolled": true
   },
   "outputs": [],
   "source": [
    "dic={\"1\":\"Invierno\",\n",
    "    \"2\":\"Invierno\",\n",
    "    \"3\":\"Primavera\",\n",
    "    \"4\":\"Primavera\",\n",
    "    \"5\":\"Primavera\",\n",
    "    \"6\":\"Verano\",\n",
    "    \"7\":\"Verano\",\n",
    "    \"8\":\"Verano\",\n",
    "    \"9\":\"Otoño\",\n",
    "    \"10\":\"Otoño\",\n",
    "    \"11\":\"Otoño\",\n",
    "    \"12\":\"Invierno\"}\n",
    "x=input(\"Introcucir el numero de mes: \")\n",
    "\n",
    "sol=dic[x]\n",
    "print(sol)\n"
   ]
  },
  {
   "cell_type": "markdown",
   "metadata": {},
   "source": [
    "## El ahorcado (EXTRA)"
   ]
  },
  {
   "cell_type": "markdown",
   "metadata": {},
   "source": [
    "Crea el juego del ahorcado.\n",
    "\n",
    "Primero se le pedirá al usuario que introduzca una palabra. Después, otro usuario irá introduciendo letras, una a una, de forma que cada vez que introduce una, la pantalla muestre signos de interrogación en las posiciones de las letras que no se han acertado todavía y las letras en las posiciones de las que se han acertado. Asímismo, se mostrarán las letras que se han empleado pero no son correctas. Sólo se permitirán 6 fallos.\n",
    "\n",
    "En el caso de adivinar la palabra, se felicitará al usuario y, en el caso de no hacerlo, se mostrará \"GAME OVER\" por pantalla."
   ]
  },
  {
   "cell_type": "code",
   "execution_count": 28,
   "metadata": {},
   "outputs": [
    {
     "name": "stdout",
     "output_type": "stream",
     "text": [
      "La palabra a acertar es: hola\n",
      "????\n",
      "letra: h\n",
      "h???\n",
      "letra: r\n",
      "Mal. Llevas 1 fallos\n",
      "h???\n",
      "letra: t\n",
      "Mal. Llevas 2 fallos\n",
      "h???\n",
      "letra: o\n",
      "ho??\n",
      "letra: a\n",
      "ho?a\n",
      "letra: t\n",
      "Mal. Llevas 3 fallos\n",
      "ho?a\n",
      "letra: e\n",
      "Mal. Llevas 4 fallos\n",
      "ho?a\n",
      "letra: w\n",
      "Mal. Llevas 5 fallos\n",
      "ho?a\n",
      "letra: q\n",
      "Mal. Llevas 6 fallos\n",
      "GAME OVER\n"
     ]
    }
   ],
   "source": [
    "def cambiar_letra(letra,palabra,pos):\n",
    "    sol=\"\"\n",
    "    for k in range(len(palabra)):\n",
    "        if k==pos:\n",
    "            sol=sol+letra\n",
    "        else:\n",
    "            sol=sol+palabra[k]\n",
    "    return sol\n",
    "\n",
    "\n",
    "\n",
    "palabra=input(\"La palabra a acertar es: \")\n",
    "palabra=palabra.lower()\n",
    "fallos=0\n",
    "incog=\"\"\n",
    "for i in range(len(palabra)):\n",
    "    incog=incog+\"?\"\n",
    "\n",
    "\n",
    "while fallos<6:\n",
    "    print(incog)\n",
    "    letra=input(\"letra: \")\n",
    "    letra=letra.lower()\n",
    "    if letra in palabra:\n",
    "        for j in range(len(palabra)):\n",
    "            if palabra[j]==letra:\n",
    "                incog=cambiar_letra(letra, incog, j)\n",
    "                \n",
    "    else:\n",
    "        fallos+=1\n",
    "        print(\"Mal. Llevas \"+str(fallos)+\" fallos\")\n",
    "    \n",
    "    if incog==palabra:\n",
    "        break\n",
    "\n",
    "        \n",
    "if fallos<6:\n",
    "    print(\"Has acertado la palabra\")\n",
    "else:\n",
    "    print(\"GAME OVER\")"
   ]
  }
 ],
 "metadata": {
  "kernelspec": {
   "display_name": "Python 3",
   "language": "python",
   "name": "python3"
  },
  "language_info": {
   "codemirror_mode": {
    "name": "ipython",
    "version": 3
   },
   "file_extension": ".py",
   "mimetype": "text/x-python",
   "name": "python",
   "nbconvert_exporter": "python",
   "pygments_lexer": "ipython3",
   "version": "3.8.5"
  }
 },
 "nbformat": 4,
 "nbformat_minor": 2
}
